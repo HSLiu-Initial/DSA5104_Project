{
 "cells": [
  {
   "cell_type": "code",
   "execution_count": 1,
   "metadata": {
    "collapsed": true
   },
   "outputs": [],
   "source": [
    "import RIM\n",
    "import torch\n",
    "from torch import nn\n",
    "import numpy as np\n",
    "import pandas as pd\n",
    "import os\n",
    "import RIM_SequentialDataloader\n",
    "from RIM import RIM\n",
    "import faiss\n",
    "import configparser\n",
    "from torch.utils.data import DataLoader\n",
    "from tqdm import tqdm\n",
    "import csv"
   ]
  },
  {
   "cell_type": "code",
   "execution_count": 2,
   "metadata": {},
   "outputs": [
    {
     "data": {
      "text/plain": [
       "<All keys matched successfully>"
      ]
     },
     "execution_count": 2,
     "metadata": {},
     "output_type": "execute_result"
    }
   ],
   "source": [
    "model = RIM(\n",
    "    dataset_summary_file='./data/tmall/feateng_data/summary_dict.pkl',\n",
    "    features=7, embed_size=16, dropout=0.3, hidden_layers=[200, 80, 1]\n",
    ")\n",
    "loaded_dict = torch.load('model.pth')\n",
    "model.load_state_dict(loaded_dict)"
   ]
  },
  {
   "cell_type": "code",
   "execution_count": 5,
   "metadata": {},
   "outputs": [],
   "source": [
    "def process_data(dataset, model):\n",
    "    prefix = './data/tmall/feateng_data/target'\n",
    "    if dataset == 'train':\n",
    "        df = pd.read_csv(os.path.join(prefix, 'target_train.csv'), header=None)\n",
    "    elif dataset == 'test':\n",
    "        df = pd.read_csv(os.path.join(prefix, 'target_test.csv'), header=None)\n",
    "    else:\n",
    "        df = pd.read_csv(os.path.join(prefix, 'search_pool.csv'), header=None)\n",
    "    len = df.shape[0]\n",
    "    print(len)\n",
    "    batch_size = 500000\n",
    "    \n",
    "    with open(f'L:/5104/{dataset}_embed.csv', 'w', newline='') as output_file:\n",
    "        writer = csv.writer(output_file)\n",
    "        for tmp in range(0, len, 20000000):\n",
    "            print(f'{tmp} / {len}')\n",
    "            x, y = df.iloc[tmp:min(len, tmp+20000000), [0, 1, 2, 3, 4, 7, 8]].values, df.iloc[tmp:min(len, tmp+20000000), 9].values\n",
    "            for i in tqdm(range(0, min(len, tmp+20000000), batch_size)):\n",
    "                data = torch.tensor(x[i:min(i+batch_size, len), :])\n",
    "                embed_data = model(data, use_embed=True).squeeze(1).detach().numpy()\n",
    "                writer.writerows(embed_data)\n",
    "                # break\n",
    "    output_file.close()\n"
   ]
  },
  {
   "cell_type": "code",
   "execution_count": 75,
   "metadata": {},
   "outputs": [
    {
     "name": "stdout",
     "output_type": "stream",
     "text": [
      "18376300\n"
     ]
    },
    {
     "name": "stderr",
     "output_type": "stream",
     "text": [
      "100%|██████████| 52/52 [16:12<00:00, 18.70s/it]\n"
     ]
    }
   ],
   "source": [
    "process_data('test', model)"
   ]
  },
  {
   "cell_type": "code",
   "execution_count": 7,
   "metadata": {},
   "outputs": [
    {
     "name": "stdout",
     "output_type": "stream",
     "text": [
      "60426722\n",
      "0 / 60426722\n"
     ]
    },
    {
     "name": "stderr",
     "output_type": "stream",
     "text": [
      "100%|██████████| 40/40 [17:07<00:00, 25.69s/it]\n"
     ]
    },
    {
     "name": "stdout",
     "output_type": "stream",
     "text": [
      "20000000 / 60426722\n"
     ]
    },
    {
     "name": "stderr",
     "output_type": "stream",
     "text": [
      "100%|██████████| 80/80 [17:03<00:00, 12.80s/it]\n"
     ]
    },
    {
     "name": "stdout",
     "output_type": "stream",
     "text": [
      "40000000 / 60426722\n"
     ]
    },
    {
     "name": "stderr",
     "output_type": "stream",
     "text": [
      "100%|██████████| 120/120 [17:05<00:00,  8.55s/it]\n"
     ]
    },
    {
     "name": "stdout",
     "output_type": "stream",
     "text": [
      "60000000 / 60426722\n"
     ]
    },
    {
     "name": "stderr",
     "output_type": "stream",
     "text": [
      "100%|██████████| 121/121 [00:22<00:00,  5.47it/s]\n"
     ]
    }
   ],
   "source": [
    "process_data('retrieval', model)"
   ]
  }
 ],
 "metadata": {
  "kernelspec": {
   "display_name": "intel_comp",
   "language": "python",
   "name": "python3"
  },
  "language_info": {
   "codemirror_mode": {
    "name": "ipython",
    "version": 3
   },
   "file_extension": ".py",
   "mimetype": "text/x-python",
   "name": "python",
   "nbconvert_exporter": "python",
   "pygments_lexer": "ipython3",
   "version": "3.8.17"
  }
 },
 "nbformat": 4,
 "nbformat_minor": 0
}
