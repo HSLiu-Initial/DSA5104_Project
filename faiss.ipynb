{
 "cells": [
  {
   "cell_type": "code",
   "execution_count": 27,
   "metadata": {
    "collapsed": true
   },
   "outputs": [],
   "source": [
    "import RIM\n",
    "import torch\n",
    "from torch import nn\n",
    "import numpy as np\n",
    "import pandas as pd\n",
    "import os\n",
    "import RIM_SequentialDataloader\n",
    "from RIM import RIM\n",
    "import faiss\n",
    "import csv\n",
    "from tqdm import tqdm"
   ]
  },
  {
   "cell_type": "code",
   "execution_count": 78,
   "metadata": {
    "collapsed": false,
    "pycharm": {
     "name": "#%%\n"
    }
   },
   "outputs": [],
   "source": [
    "r_path = \"L:/5104\"\n",
    "pool_label = np.load(os.path.join(r_path, 'pool_label.npy'))\n",
    "# test_label = np.load(os.path.join(r_path, 'test_label.npy'))\n",
    "test_label = np.load(os.path.join(r_path, 'sample_test_label.npy'))"
   ]
  },
  {
   "cell_type": "code",
   "execution_count": 25,
   "metadata": {},
   "outputs": [],
   "source": [
    "def RetrieveKNN(xq, k):\n",
    "    index = faiss.read_index(os.path.join(r_path, 'faiss_index_1.index'))\n",
    "    D1, I1 = index.search(xq, k)\n",
    "    index = faiss.read_index(os.path.join(r_path, 'faiss_index_4.index'))\n",
    "    D2, I2 = index.search(xq, k)\n",
    "    index = faiss.read_index(os.path.join(r_path, 'faiss_index_2.index'))\n",
    "    D3, I3 = index.search(xq, k)\n",
    "    index = faiss.read_index(os.path.join(r_path, 'faiss_index_3.index'))\n",
    "    D4, I4 = index.search(xq, k)\n",
    "    I2 = I2 + 20000000\n",
    "    I3 = I3 + 39000000\n",
    "    I4 = I4 + 60000000\n",
    "    I = np.concatenate((I1, I2, I3, I4), axis=1)\n",
    "    D = np.concatenate((D1, D2, D3, D4), axis=1)\n",
    "    ind_sort = D.argsort(axis=1)\n",
    "    D_sort = np.take_along_axis(D, ind_sort, axis=1)\n",
    "    I_sort = np.take_along_axis(I, ind_sort, axis=1)\n",
    "    return I_sort, D_sort"
   ]
  },
  {
   "cell_type": "code",
   "execution_count": 74,
   "metadata": {},
   "outputs": [],
   "source": [
    "batch_size = 1000\n",
    "csv_file = os.path.join(r_path, 'test_embed.csv')\n",
    "for chunk in pd.read_csv(csv_file, chunksize=batch_size):\n",
    "    xq = chunk.values\n",
    "    I, D = RetrieveKNN(xq, 10)\n",
    "    break"
   ]
  },
  {
   "cell_type": "code",
   "execution_count": 79,
   "metadata": {},
   "outputs": [],
   "source": [
    "def Predict(I, k):\n",
    "    Preds = np.zeros(I.shape[0])\n",
    "    KNN_label = pool_label[I[:, :k]]\n",
    "    tmp = np.sum(KNN_label, axis=1)\n",
    "    Preds[tmp / k >= 0.5] = 1\n",
    "    return Preds"
   ]
  },
  {
   "cell_type": "code",
   "execution_count": 80,
   "metadata": {},
   "outputs": [
    {
     "name": "stdout",
     "output_type": "stream",
     "text": [
      "Accuracy: 0.941\n"
     ]
    }
   ],
   "source": [
    "print(f'Accuracy: {np.sum(Predict(I, 10) == test_label[:1000]) / 1000}')"
   ]
  }
 ],
 "metadata": {
  "kernelspec": {
   "display_name": "intel_comp",
   "language": "python",
   "name": "python3"
  },
  "language_info": {
   "codemirror_mode": {
    "name": "ipython",
    "version": 3
   },
   "file_extension": ".py",
   "mimetype": "text/x-python",
   "name": "python",
   "nbconvert_exporter": "python",
   "pygments_lexer": "ipython3",
   "version": "3.8.17"
  }
 },
 "nbformat": 4,
 "nbformat_minor": 0
}
