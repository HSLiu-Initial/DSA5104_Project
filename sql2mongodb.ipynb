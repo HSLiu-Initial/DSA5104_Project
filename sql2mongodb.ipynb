{
 "cells": [
  {
   "cell_type": "code",
   "execution_count": 24,
   "metadata": {},
   "outputs": [],
   "source": [
    "import pandas as pd\n",
    "import numpy as np\n",
    "import pymongo\n",
    "import csv\n",
    "import json\n",
    "from tqdm import tqdm"
   ]
  },
  {
   "cell_type": "code",
   "execution_count": 1,
   "metadata": {},
   "outputs": [],
   "source": [
    "csv_file_path = './data/users.csv'\n",
    "json_output_path = 'newdata.json'\n",
    "\n",
    "# Define the conversion function.\n",
    "def convert_row_to_json(row):\n",
    "    return {\n",
    "        \"_id\": row['action_id'],\n",
    "        \"user_id\": row['user_id'],\n",
    "        \"age_range\": row['age_range'],\n",
    "        \"gender\": row['gender'],\n",
    "        \"items\": [{\n",
    "            \"_id\": row['item_id'],\n",
    "            \"cat_id\": row['cat_id'],\n",
    "            \"brand_id\": row['brand_id']\n",
    "            # Include more item attributes here if necessary.\n",
    "        }],\n",
    "        \"actions\": [{\n",
    "            \"_id\": row['action_id'],\n",
    "            \"item_id\": row['item_id'],\n",
    "            \"action_type\": row['action_type'],\n",
    "            \"time_stamp\": row['time_stamp']\n",
    "            # Include more action attributes here if necessary.\n",
    "        }]\n",
    "    }\n",
    "\n",
    "# Read the CSV file and convert each row to the desired JSON structure.\n",
    "json_data = []\n",
    "with open(csv_file_path, mode='r', newline='', encoding='utf-8') as csvfile:\n",
    "    reader = csv.DictReader(csvfile)\n",
    "    for i, row in enumerate(reader):\n",
    "        json_data.append(convert_row_to_json(row))\n",
    "        \n",
    "# Write the JSON data to a new file.\n",
    "with open(json_output_path, 'w', encoding='utf-8') as jsonfile:\n",
    "    json.dump(json_data, jsonfile, indent=4)\n",
    "\n",
    "print(f\"Data has been converted and saved to {json_output_path}\")"
   ]
  },
  {
   "cell_type": "code",
   "execution_count": 26,
   "metadata": {},
   "outputs": [
    {
     "name": "stderr",
     "output_type": "stream",
     "text": [
      "100%|██████████| 3028/3028 [00:00<00:00, 605759.44it/s]"
     ]
    },
    {
     "name": "stdout",
     "output_type": "stream",
     "text": [
      "Data has been converted and saved to seller.json\n"
     ]
    },
    {
     "name": "stderr",
     "output_type": "stream",
     "text": [
      "\n"
     ]
    }
   ],
   "source": [
    "#conver seller\n",
    "csv_file_path = './data/seller.csv'\n",
    "json_output_path = 'seller.json'\n",
    "\n",
    "dict = {}\n",
    "\n",
    "with open(csv_file_path, mode='r', newline='', encoding='utf-8') as csvfile:\n",
    "    reader = csv.DictReader(csvfile)\n",
    "    for i, row in enumerate(reader):\n",
    "        if dict.get(row['seller_id']) == None:\n",
    "            dict[row['seller_id']] = [row['item_id']]\n",
    "        else:\n",
    "            dict[row['seller_id']].append(row['item_id'])\n",
    "\n",
    "# Define the conversion function.\n",
    "def convert_dict_to_json(seller_id):\n",
    "    return {\n",
    "    \"_id\": seller_id,\n",
    "    \"items_sold\": dict[seller_id] # Array of item IDs.\n",
    "}\n",
    "\n",
    "json_data = []\n",
    "for key in tqdm(dict.keys()):\n",
    "    json_data.append(convert_dict_to_json(key))\n",
    "        \n",
    "        \n",
    "# Write the JSON data to a new file.\n",
    "with open(json_output_path, 'w', encoding='utf-8') as jsonfile:\n",
    "    json.dump(json_data, jsonfile, indent=4)\n",
    "\n",
    "print(f\"Data has been converted and saved to {json_output_path}\")"
   ]
  },
  {
   "cell_type": "code",
   "execution_count": 28,
   "metadata": {},
   "outputs": [
    {
     "name": "stdout",
     "output_type": "stream",
     "text": [
      "Data has been converted and saved to sequence.json\n"
     ]
    }
   ],
   "source": [
    "#\"seq_id\",\"user_id\",\"action_id\",\"seq_rank\"\n",
    "csv_file_path = './data/sequence.csv'\n",
    "json_output_path = 'sequence.json'\n",
    "\n",
    "# Define the conversion function.\n",
    "def convert_row_to_json(row):\n",
    "    return {\n",
    "  \"_id\": row['seq_id'],\n",
    "  \"user_id\": row['user_id'],\n",
    "  \"time_stamp\": np.random.choice(['1110', '1109', '1104'])\n",
    "}\n",
    "\n",
    "# Read the CSV file and convert each row to the desired JSON structure.\n",
    "json_data = []\n",
    "with open(csv_file_path, mode='r', newline='', encoding='utf-8') as csvfile:\n",
    "    reader = csv.DictReader(csvfile)\n",
    "    for i, row in enumerate(reader):\n",
    "        json_data.append(convert_row_to_json(row))\n",
    "        \n",
    "# Write the JSON data to a new file.\n",
    "with open(json_output_path, 'w', encoding='utf-8') as jsonfile:\n",
    "    json.dump(json_data, jsonfile, indent=4)\n",
    "\n",
    "print(f\"Data has been converted and saved to {json_output_path}\")"
   ]
  },
  {
   "cell_type": "code",
   "execution_count": 29,
   "metadata": {},
   "outputs": [
    {
     "name": "stdout",
     "output_type": "stream",
     "text": [
      "Data has been converted and saved to searching_pool.json\n"
     ]
    }
   ],
   "source": [
    "#seaching pool\n",
    "csv_file_path = './data/searching_pool.csv'\n",
    "json_output_path = 'searching_pool.json'\n",
    "\n",
    "# Define the conversion function.\n",
    "def convert_row_to_json(row):\n",
    "    return {\n",
    "  \"_id\": row['pool_id'],\n",
    "  \"action_ids\": None\n",
    "}\n",
    "\n",
    "# Read the CSV file and convert each row to the desired JSON structure.\n",
    "json_data = []\n",
    "with open(csv_file_path, mode='r', newline='', encoding='utf-8') as csvfile:\n",
    "    reader = csv.DictReader(csvfile)\n",
    "    for i, row in enumerate(reader):\n",
    "        json_data.append(convert_row_to_json(row))\n",
    "        \n",
    "# Write the JSON data to a new file.\n",
    "with open(json_output_path, 'w', encoding='utf-8') as jsonfile:\n",
    "    json.dump(json_data, jsonfile, indent=4)\n",
    "\n",
    "print(f\"Data has been converted and saved to {json_output_path}\")"
   ]
  },
  {
   "cell_type": "code",
   "execution_count": 31,
   "metadata": {},
   "outputs": [
    {
     "name": "stdout",
     "output_type": "stream",
     "text": [
      "Data has been converted and saved to result.json\n"
     ]
    }
   ],
   "source": [
    "# \"search_action_id\",\"pool_id1\",\"pool_id2\",\"pool_id3\",\"pool_id4\",\"pool_id5\",\"pool_id6\",\"pool_id7\",\"pool_id8\",\"pool_id9\",\"pool_id10\"\n",
    "#seaching result\n",
    "csv_file_path = './data/result.csv'\n",
    "json_output_path = 'result.json'\n",
    "\n",
    "# Define the conversion function.\n",
    "def convert_row_to_json(num, row):\n",
    "    return {\n",
    "  \"_id\": num,\n",
    "  \"search_action_id\": row['search_action_id'],\n",
    "  \"pool_id\": [row['pool_id1'], row['pool_id2'], row['pool_id3'], row['pool_id4'], row['pool_id5'], row['pool_id6'], row['pool_id7'], row['pool_id8'], row['pool_id9'], row['pool_id10']]\n",
    "}\n",
    "\n",
    "# Read the CSV file and convert each row to the desired JSON structure.\n",
    "json_data = []\n",
    "with open(csv_file_path, mode='r', newline='', encoding='utf-8') as csvfile:\n",
    "    reader = csv.DictReader(csvfile)\n",
    "    for i, row in enumerate(reader):\n",
    "        json_data.append(convert_row_to_json(i+1, row))\n",
    "        \n",
    "# Write the JSON data to a new file.\n",
    "with open(json_output_path, 'w', encoding='utf-8') as jsonfile:\n",
    "    json.dump(json_data, jsonfile, indent=4)\n",
    "\n",
    "print(f\"Data has been converted and saved to {json_output_path}\")"
   ]
  }
 ],
 "metadata": {
  "kernelspec": {
   "display_name": "intel_comp",
   "language": "python",
   "name": "python3"
  },
  "language_info": {
   "codemirror_mode": {
    "name": "ipython",
    "version": 3
   },
   "file_extension": ".py",
   "mimetype": "text/x-python",
   "name": "python",
   "nbconvert_exporter": "python",
   "pygments_lexer": "ipython3",
   "version": "3.8.17"
  },
  "orig_nbformat": 4
 },
 "nbformat": 4,
 "nbformat_minor": 2
}
